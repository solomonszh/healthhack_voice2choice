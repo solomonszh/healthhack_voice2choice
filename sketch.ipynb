{
 "cells": [
  {
   "cell_type": "code",
   "execution_count": 1,
   "metadata": {},
   "outputs": [],
   "source": [
    "import getpass\n",
    "import pprint\n",
    "import os\n",
    "\n",
    "from dotenv import load_dotenv\n",
    "\n",
    "load_dotenv(override=True)\n",
    "\n",
    "if not os.environ.get(\"OPENAI_API_KEY\"): \n",
    "    os.environ[\"OPENAI_API_KEY\"] = getpass.getpass(\"OpenAI API Key:\")\n",
    "\n",
    "from openai import OpenAI"
   ]
  },
  {
   "cell_type": "code",
   "execution_count": 2,
   "metadata": {},
   "outputs": [],
   "source": [
    "from langchain.docstore.document import Document\n",
    "from langchain.document_loaders import TextLoader, Docx2txtLoader, DirectoryLoader, UnstructuredWordDocumentLoader, UnstructuredExcelLoader, CSVLoader\n",
    "from langchain.text_splitter import CharacterTextSplitter, SpacyTextSplitter, RecursiveCharacterTextSplitter\n",
    "from langchain.embeddings.openai import OpenAIEmbeddings\n",
    "\n",
    "from langchain_iris import IRISVector"
   ]
  },
  {
   "cell_type": "code",
   "execution_count": 3,
   "metadata": {},
   "outputs": [],
   "source": [
    "import os\n",
    "import chromadb\n",
    "from langchain.embeddings import OpenAIEmbeddings\n",
    "from langchain.text_splitter import RecursiveCharacterTextSplitter\n",
    "from docx import Document  # For reading .docx files\n",
    "\n",
    "# Function to extract text from a Word document\n",
    "def load_word_document(file_path):\n",
    "    doc = Document(file_path)\n",
    "    text = \"\\n\".join([para.text for para in doc.paragraphs if para.text.strip()])\n",
    "    return text"
   ]
  },
  {
   "cell_type": "code",
   "execution_count": 4,
   "metadata": {},
   "outputs": [],
   "source": [
    "import pandas as pd"
   ]
  },
  {
   "cell_type": "code",
   "execution_count": 5,
   "metadata": {},
   "outputs": [
    {
     "name": "stderr",
     "output_type": "stream",
     "text": [
      "/var/folders/0n/6bwdvxdj6tz_d082n8rflq140000gn/T/ipykernel_12201/1207519732.py:2: LangChainDeprecationWarning: The class `OpenAIEmbeddings` was deprecated in LangChain 0.0.9 and will be removed in 1.0. An updated version of the class exists in the :class:`~langchain-openai package and should be used instead. To use it run `pip install -U :class:`~langchain-openai` and import as `from :class:`~langchain_openai import OpenAIEmbeddings``.\n",
      "  embeddings = OpenAIEmbeddings()\n"
     ]
    }
   ],
   "source": [
    "client = OpenAI()\n",
    "embeddings = OpenAIEmbeddings()"
   ]
  },
  {
   "cell_type": "code",
   "execution_count": null,
   "metadata": {},
   "outputs": [],
   "source": []
  },
  {
   "cell_type": "code",
   "execution_count": null,
   "metadata": {},
   "outputs": [],
   "source": [
    "username = 'demo'\n",
    "password = 'demo' \n",
    "hostname = os.getenv('IRIS_HOSTNAME', 'localhost')\n",
    "port = '1972' \n",
    "namespace = 'USER'\n",
    "CONNECTION_STRING = f\"iris://{username}:{password}@{hostname}:{port}/{namespace}\"\n",
    "# Under the hood, this becomes a SQL table. CANNOT have '.' in the name"
   ]
  },
  {
   "cell_type": "code",
   "execution_count": null,
   "metadata": {},
   "outputs": [],
   "source": [
    "loader = DirectoryLoader('data', glob='*.docx', loader_cls=Docx2txtLoader)\n",
    "docs = loader.load()\n",
    "len(docs)"
   ]
  },
  {
   "cell_type": "code",
   "execution_count": null,
   "metadata": {},
   "outputs": [],
   "source": [
    "text_splitter = SpacyTextSplitter(chunk_size=400, chunk_overlap=20)\n",
    "docs = text_splitter.split_documents(docs)"
   ]
  },
  {
   "cell_type": "code",
   "execution_count": null,
   "metadata": {},
   "outputs": [],
   "source": [
    "COLLECTION_NAME = \"cancer_db\"\n",
    "# This creates a persistent vector store (a SQL table). You should run this ONCE only\n",
    "db = IRISVector.from_documents(\n",
    "    embedding=embeddings,\n",
    "    documents=docs,\n",
    "    collection_name=COLLECTION_NAME,\n",
    "    connection_string=CONNECTION_STRING,\n",
    ")"
   ]
  },
  {
   "cell_type": "code",
   "execution_count": null,
   "metadata": {},
   "outputs": [],
   "source": []
  },
  {
   "cell_type": "code",
   "execution_count": null,
   "metadata": {},
   "outputs": [],
   "source": [
    "COLLECTION_NAME = \"cancer_db\"\n",
    "# Subsequent calls to reconnect to the database and make searches should use this.  \n",
    "db = IRISVector(\n",
    "    embedding_function=embeddings,\n",
    "    dimension=1536,\n",
    "    collection_name=COLLECTION_NAME,\n",
    "    connection_string=CONNECTION_STRING,\n",
    ")"
   ]
  },
  {
   "cell_type": "code",
   "execution_count": null,
   "metadata": {},
   "outputs": [],
   "source": []
  },
  {
   "cell_type": "code",
   "execution_count": 6,
   "metadata": {},
   "outputs": [
    {
     "name": "stdout",
     "output_type": "stream",
     "text": [
      "Processing: s1.docx\n",
      "Processing: s6.docx\n",
      "Processing: s7.docx\n",
      "Processing: s4.docx\n",
      "Processing: s8.docx\n",
      "Processing: s10.docx\n",
      "Processing: s9.docx\n",
      "Processing: s5.docx\n",
      "Processing: s2.docx\n",
      "Processing: s3.docx\n",
      "Successfully added 10 documents to ChromaDB!\n"
     ]
    }
   ],
   "source": [
    "COLLECTION_NAME = \"cancer_db\"\n",
    "# Directory containing multiple Word documents\n",
    "folder_path = \"data\"  # Change this to your actual folder path\n",
    "\n",
    "# List all .docx files in the folder\n",
    "word_files = [f for f in os.listdir(folder_path) if f.endswith(\".docx\") and 'knowledge' not in f]\n",
    "\n",
    "# Initialize ChromaDB client\n",
    "chromadb_client = chromadb.PersistentClient(path=\"./chroma_db\")\n",
    "db = chromadb_client.get_or_create_collection(name=COLLECTION_NAME)\n",
    "\n",
    "# Text splitter for chunking documents\n",
    "text_splitter = RecursiveCharacterTextSplitter(chunk_size=2500, chunk_overlap=250)\n",
    "\n",
    "# Process each Word document\n",
    "doc_id = 0\n",
    "for file_name in word_files:\n",
    "    file_path = os.path.join(folder_path, file_name)\n",
    "    print(f\"Processing: {file_name}\")\n",
    "    \n",
    "    # Load and split text\n",
    "    document_text = load_word_document(file_path)\n",
    "    doc_chunks = text_splitter.split_text(document_text)\n",
    "    \n",
    "    # Generate embeddings\n",
    "    actual_embeddings = embeddings.embed_documents(doc_chunks)\n",
    "\n",
    "    # Add to ChromaDB\n",
    "    db.add(\n",
    "        ids=[f\"{doc_id}_{i}\" for i in range(len(doc_chunks))],  # Unique IDs\n",
    "        documents=doc_chunks,  # Text chunks\n",
    "        embeddings=actual_embeddings  # Corresponding embeddings\n",
    "    )\n",
    "\n",
    "    doc_id += 1\n",
    "\n",
    "print(f\"Successfully added {len(word_files)} documents to ChromaDB!\")\n"
   ]
  },
  {
   "cell_type": "code",
   "execution_count": null,
   "metadata": {},
   "outputs": [],
   "source": []
  },
  {
   "cell_type": "code",
   "execution_count": 7,
   "metadata": {},
   "outputs": [
    {
     "name": "stdout",
     "output_type": "stream",
     "text": [
      "Number of docs in vector store: 19\n"
     ]
    }
   ],
   "source": [
    "print(f\"Number of docs in vector store: {len(db.get()['ids'])}\")"
   ]
  },
  {
   "cell_type": "code",
   "execution_count": 8,
   "metadata": {},
   "outputs": [],
   "source": [
    "f = open(\"data/s_test.txt\", \"r\", encoding='ISO-8859-1')\n",
    "# query = \"new technology\"\n",
    "scenario = f.read()\n",
    "\n",
    "f = open(\"data/knowledge.docx\", \"r\", encoding='ISO-8859-1')\n",
    "# query = \"new technology\"\n",
    "knowledge = f.read()"
   ]
  },
  {
   "cell_type": "code",
   "execution_count": null,
   "metadata": {},
   "outputs": [],
   "source": []
  },
  {
   "cell_type": "code",
   "execution_count": null,
   "metadata": {},
   "outputs": [],
   "source": [
    "docs_with_score = db.similarity_search_with_score(scenario, 2)\n",
    "for doc, score in docs_with_score:\n",
    "    print(\"-\" * 80)\n",
    "    print(\"Score: \", score)\n",
    "    print(doc.page_content)\n",
    "    print(\"-\" * 80)"
   ]
  },
  {
   "cell_type": "code",
   "execution_count": null,
   "metadata": {},
   "outputs": [],
   "source": [
    "embedding_vector = embeddings.embed_query(scenario)\n",
    "res = db.similarity_search_by_vector(embedding_vector)\n",
    "res"
   ]
  },
  {
   "cell_type": "code",
   "execution_count": null,
   "metadata": {},
   "outputs": [],
   "source": []
  },
  {
   "cell_type": "code",
   "execution_count": 9,
   "metadata": {},
   "outputs": [
    {
     "name": "stdout",
     "output_type": "stream",
     "text": [
      "Result 1: Premise: Pt has a big tumor but cannot accept mastectomy, discuss neoadjuvant chemotherapy- risks and benefits and agreeable for trial of nact before mastectomy\n",
      "Patient Scenario\n",
      "Dr. Tan: Good morning, Ms. Chua. Thank you for coming in today. I understand that you’ve been thinking a lot about your treatment options. How are you feeling?\n",
      "Ms. Chua: Good morning, Dr. Tan. I’m very worried. I know my tumor is big, but I just cannot accept the idea of losing my breast. I don’t want a mastectomy if there’s any way to avoid it.\n",
      "Dr. Tan: I understand how difficult this decision can be. Since your tumor is large, a mastectomy is typically the recommended approach. However, in some cases, we can try neoadjuvant chemotherapy (NACT) first. This means giving chemotherapy before surgery to shrink the tumor, potentially allowing for breast-conserving surgery instead of a mastectomy.\n",
      "Ms. Chua: Really? So there’s a chance I might not need a mastectomy if the tumor shrinks enough?\n",
      "Dr. Tan: Yes, that’s possible. NACT can reduce the tumor size, and if the response is good, we may be able to proceed with a lumpectomy instead of a mastectomy. However, the response to chemotherapy varies between patients. If the tumor does not shrink enough, we may still need to do a mastectomy.\n",
      "Ms. Chua: I see. What are the risks of trying chemotherapy first?\n",
      "Dr. Tan: The main risks are the side effects of chemotherapy, which include nausea, hair loss, fatigue, and a weakened immune system. There’s also a chance that the tumor may not respond well enough, meaning you may still need a mastectomy later. However, the benefit is that if the tumor does respond, you may be able to keep your breast.\n",
      "Ms. Chua: I really want to try. If there’s even a chance I can avoid mastectomy, I think I should go for it.\n",
      "Dr. Tan: That’s a reasonable approach. We will monitor your tumor’s response closely with imaging and reassess after a few cycles of chemotherapy. If the tumor shrinks adequately, we can plan for breast-conserving surgery. If not, we will discuss the next steps together.\n",
      "Ms. Chua: Okay, I’m willing to try. Thank you for explaining everything to me.\n",
      "Decisional Tool: Pros and Cons of Each Modality\n",
      "Neoadjuvant Chemotherapy (NACT) + Lumpectomy Attempt\n",
      "✅ Pros:\n",
      "Possibility of Breast Conservation: If the tumor responds well, a lumpectomy may be possible instead of a mastectomy.\n",
      "Early Treatment of Systemic Disease: Chemotherapy addresses potential micrometastases early.\n",
      "Score: 0.07389554571630733\n",
      "\n",
      "Result 2: Premise: very anxious, big fear of recurrence despite early breast cancer (mastec vs lumpec\n",
      "patient scenario:\n",
      "Dr. Tan: Good morning, Mdm Chua. Thank you for coming in today. How are you feeling?\n",
      "Mdm Chua: Good morning, Dr. Tan. I’m feeling quite anxious, to be honest. I know my cancer was caught early, but I keep worrying about it coming back.\n",
      "Dr. Tan: I understand. Fear of recurrence is very common, and I want to help you feel as confident as possible in your treatment decision. Can you share what’s worrying you the most?\n",
      "Mdm Chua: I keep thinking—what if the cancer isn’t fully removed? What if it comes back later? I don’t want to go through this again. I don’t know if I should just remove everything to be safe.\n",
      "Dr. Tan: That’s completely understandable. There are two main surgical options: a lumpectomy, which removes only the tumor while keeping the breast, and a mastectomy, which removes the entire breast. Both options have comparable survival rates, meaning neither is a \"better\" choice in terms of overall life expectancy.\n",
      "Mdm Chua: But if I remove everything, doesn’t that mean the risk is lower?\n",
      "Dr. Tan: A mastectomy lowers the risk of cancer coming back in the same breast, but when combined with radiotherapy, a lumpectomy offers a very similar recurrence rate. That means keeping your breast is still a safe option.\n",
      "Mdm Chua: But what if there are still cancer cells left behind after the lumpectomy?\n",
      "Dr. Tan: That’s a good question. After a lumpectomy, we carefully examine the surgical margins—the area around the tumor that was removed. If the margins are clear, the risk of recurrence is low. However, if the margins are not clear, there is a higher risk of cancer returning, and your surgeon will usually recommend a second surgery to remove more tissue.\n",
      "Mdm Chua: So, there’s a chance I might need a second operation?\n",
      "Dr. Tan: Yes, about 5-15% of patients need a second surgery after a lumpectomy to ensure all the cancer is removed. But if you are okay with that possibility, a lumpectomy is still an excellent option. If you strongly prefer to avoid a second surgery, a mastectomy would be the more definitive choice.\n",
      "Mdm Chua: I just want to feel safe. Maybe removing everything is better for my anxiety.\n",
      "Dr. Tan: That’s completely understandable. If having the entire breast removed would give you peace of mind and help you feel more confident about your treatment, a mastectomy might be the right choice for you. You can also consider reconstruction if you wish.\n",
      "Score: 0.19362828556642114\n",
      "\n",
      "Result 3: ✅ Pros:\n",
      "Possibility of Breast Conservation: If the tumor responds well, a lumpectomy may be possible instead of a mastectomy.\n",
      "Early Treatment of Systemic Disease: Chemotherapy addresses potential micrometastases early.\n",
      "Allows for Tumor Response Monitoring: Helps assess how the tumor behaves before surgery.\n",
      "❌ Cons:\n",
      "Risk of Incomplete Response: If the tumor does not shrink enough, mastectomy may still be required.\n",
      "Chemotherapy Side Effects: Includes nausea, fatigue, hair loss, and a weakened immune system.\n",
      "Longer Treatment Timeline: Surgery is delayed while undergoing chemotherapy.\n",
      "Mastectomy Without Neoadjuvant Chemotherapy\n",
      "✅ Pros:\n",
      "Definitive Tumor Removal: Removes the entire breast, eliminating the tumor completely.\n",
      "Avoids Chemotherapy Side Effects (Initially): Some patients may not need chemotherapy upfront.\n",
      "Shorter Time to Surgery: No waiting period for chemotherapy response before proceeding with surgery.\n",
      "❌ Cons:\n",
      "Loss of the Breast: Can have a significant emotional and psychological impact.\n",
      "No Chance for Breast Conservation: Even if the tumor could have shrunk, mastectomy is the only option without NACT.\n",
      "Potential Need for Post-Surgical Chemotherapy: If lymph nodes are involved, chemotherapy may still be needed after surgery.\n",
      "Score: 0.2059720131214906\n",
      "\n",
      "Result 4: Premise: Cannot accept mastectomy\n",
      "patient scenario:\n",
      "Dr: Good morning, Mdm. Thank you for joining the consultation today. How are you feeling?\n",
      "Mdm: Good morning, Dr. I’m feeling okay, but I’ve been quite worried about my surgery options.\n",
      "Dr.: I understand. You’ve been diagnosed with early breast cancer, and we are here to discuss the best surgical approach for you. Could you share with me what concerns you the most?\n",
      "Dr: I see. It sounds like the thought of a mastectomy has been really overwhelming for you. Can you tell me more about what’s been on your mind?\n",
      "Mdm: I just can’t imagine losing my breast. I know it might be necessary, but I feel like I’ll lose a part of myself.\n",
      "Dr: That’s completely understandable. Many patients feel the same way, and your feelings are valid. The good news is that, for your cancer, breast-conserving surgery might be an option. This involves removing the tumor while preserving the rest of your breast.\n",
      "Mdm: Really? I thought a mastectomy was the only choice.\n",
      "Dr: Not necessarily. In your case, we could consider a lumpectomy, followed by radiotherapy to reduce the risk of recurrence. This approach allows us to remove the cancer while maintaining the shape of your breast as much as possible.\n",
      "Mdm: That sounds more manageable. What are the risks with that option?\n",
      "Dr: With a lumpectomy and radiotherapy, there’s still a small risk of recurrence, but it’s comparable to a mastectomy when done correctly. We’ll monitor you closely with regular follow-ups. If the tumor is larger than expected or the margins aren’t clear, we might need a second surgery — but we’ll guide you every step of the way.\n",
      "Mdm: I appreciate that. I feel a bit more hopeful knowing I have options.\n",
      "Dr: Absolutely. We’ll work together to find a plan that treats the cancer effectively while respecting your concerns about body image and well-being. Would you like me to show you some visuals to help explain the process?\n",
      "Decisional tool (pros and cons of each modality): \n",
      "Factors for lumpectomy:\n",
      "Preserves the breast: Removes only the cancer while keeping most of the natural breast tissue, addressing the patient’s concern about body image.\n",
      "Shorter recovery time: Compared to mastectomy, recovery is generally quicker.\n",
      "Psychological comfort: Patients often feel more confident retaining their breast shape.\n",
      "Factors against lumpectomy\n",
      "Need for radiotherapy: Radiation treatment is required to reduce recurrence risk, which can cause tiredness or skin irritation.\n",
      "Score: 0.2154935138290632\n",
      "\n",
      "Result 5: Premise: only wants lumpectomy ok for second surgery\n",
      "patient scenario:\n",
      "Dr. Tan: Good morning, Mdm Lee. Thank you for coming in today. How are you feeling?\n",
      "Mdm Lee: Good morning, Dr. Tan. I’m feeling alright, but I’ve been thinking a lot about my treatment options.\n",
      "Dr. Tan: That’s completely understandable. From our last discussion, I understand that you strongly prefer a lumpectomy. Could you share more about what’s on your mind?\n",
      "Mdm Lee: Yes, I really want to keep my breast, and want to do a lumpectomy. \n",
      "Dr. Tan: Okay, let me explain more about what this surgery entails. A lumpectomy, or breast-conserving surgery, removes the tumor while keeping the rest of your breast intact. However, after surgery, we always check if we have removed all the cancer with clear margins. If not, a second surgery may be needed. Are you okay with that?\n",
      "Mdm Lee: Yes, I’m okay with the possibility of needing a second surgery if it means I can avoid a mastectomy.\n",
      "Dr. Tan: Great, since you’re okay with that possibility, a lumpectomy could be a good choice for you.\n",
      "Mdm Lee: I understand. What happens after the lumpectomy?\n",
      "Dr. Tan: After a lumpectomy, most patients require radiotherapy to reduce the risk of recurrence. This means coming in for treatment over several weeks. Are you comfortable with that?\n",
      "Mdm Lee: Yes, I think I can manage that. As long as I can keep my breast, I’m willing to go through the extra steps.\n",
      "Dr. Tan: That’s great. Since you’ve thought this through and are willing to undergo a second surgery if needed, a lumpectomy with radiotherapy would be a suitable option for you.\n",
      "Mdm Lee: Yes, I feel more confident in my decision now. I’ll discuss it with my family, but I think I want to go ahead with the lumpectomy.\n",
      "Decisional tool (pros and cons of each modality): \n",
      "Lumpectomy:\n",
      "Pros:\n",
      "Preserves the natural breast, which is Mdm Lee’s priority.\n",
      "Less invasive surgery with shorter recovery time, no drain required\n",
      "Suitable for early-stage breast cancer with good outcomes.\n",
      "Cons:\n",
      "Requires post-surgical radiotherapy, which involves multiple hospital visits.\n",
      "There is a chance that cancer margins may not be clear, requiring a second surgery, which Mdm Lee is willing to accept.\n",
      "Score: 0.224269015262634\n",
      "\n"
     ]
    }
   ],
   "source": [
    "# Perform a similarity search\n",
    "query_embedding = embeddings.embed_query(scenario)  # Generate embedding for the query\n",
    "\n",
    "# Retrieve top 5 most similar results\n",
    "results = db.query(\n",
    "    query_embeddings=[query_embedding],  # Query embedding\n",
    "    n_results=5  # Number of similar documents to retrieve\n",
    ")\n",
    "\n",
    "# Print the search results\n",
    "for i, doc in enumerate(results[\"documents\"][0]):\n",
    "    print(f\"Result {i+1}: {doc}\")\n",
    "    print(f\"Score: {results['distances'][0][i]}\\n\")\n"
   ]
  },
  {
   "cell_type": "code",
   "execution_count": null,
   "metadata": {},
   "outputs": [],
   "source": []
  },
  {
   "cell_type": "code",
   "execution_count": null,
   "metadata": {},
   "outputs": [],
   "source": [
    "full_res = ''\n",
    "for each_res in res:\n",
    "    full_res = full_res + '\\n\\n' +each_res.page_content"
   ]
  },
  {
   "cell_type": "code",
   "execution_count": null,
   "metadata": {},
   "outputs": [],
   "source": []
  },
  {
   "cell_type": "code",
   "execution_count": 10,
   "metadata": {},
   "outputs": [],
   "source": [
    "full_res = ''\n",
    "for each_res in results['documents'][0]:\n",
    "    full_res = full_res + '\\n\\n' +each_res"
   ]
  },
  {
   "cell_type": "code",
   "execution_count": null,
   "metadata": {},
   "outputs": [],
   "source": []
  },
  {
   "cell_type": "code",
   "execution_count": 11,
   "metadata": {},
   "outputs": [],
   "source": [
    "completion = client.chat.completions.create(\n",
    "    model=\"gpt-4o-mini\",\n",
    "    messages=[\n",
    "        {\n",
    "            \"role\": \"system\", \n",
    "            \"content\": \n",
    "                f\"\"\"\n",
    "                A medical doctor with domain knowledge in breast cancer after having trained with a wealth of knowledge in these topics: {knowledge}.\n",
    "                Augment your data with results from {full_res}\n",
    "                \"\"\"\n",
    "        },\n",
    "        {\n",
    "            \"role\": \"user\",\n",
    "            \"content\": \n",
    "                f\"\"\"\n",
    "                Given patient's consultation with the doctor in this {scenario}, \n",
    "                recommend \n",
    "                1. the best course of treatment\n",
    "                2. provide justifications for the course\n",
    "                3. provide chain of thought to reach those justifications\n",
    "                4. highlight risks to patient\n",
    "                \"\"\"\n",
    "        }\n",
    "    ]\n",
    ")\n"
   ]
  },
  {
   "cell_type": "code",
   "execution_count": 12,
   "metadata": {},
   "outputs": [
    {
     "name": "stdout",
     "output_type": "stream",
     "text": [
      "('1. **Recommended Course of Treatment:**\\n'\n",
      " '   - The best course of treatment for Ms. Chua is to pursue neoadjuvant '\n",
      " 'chemotherapy (NACT) followed by a reassessment for breast-conserving surgery '\n",
      " '(lumpectomy) if the tumor shrinks adequately.\\n'\n",
      " '\\n'\n",
      " '2. **Justifications for the Course:**\\n'\n",
      " '   - **Opportunity for Tumor Reduction:** The primary justification for NACT '\n",
      " 'is to shrink the tumor size before surgery. Given that Ms. Chua is concerned '\n",
      " 'about losing her breast, this approach provides her with a chance to '\n",
      " 'maintain breast integrity if the tumor responds well to chemotherapy.\\n'\n",
      " '   - **Monitoring Response:** By using NACT, the oncologist can monitor how '\n",
      " 'well the tumor responds to treatment. A favorable response can provide '\n",
      " \"valuable information on the tumor's biology, which can guide future \"\n",
      " 'treatment decisions.\\n'\n",
      " '   - **Psychological Consideration:** Understanding her concerns about '\n",
      " 'mastectomy, this approach allows Ms. Chua to feel empowered in her treatment '\n",
      " 'decision while potentially avoiding the significant emotional impact of '\n",
      " 'losing her breast.\\n'\n",
      " '   - **Timing of Surgery:** NACT can afford time for proper assessment of '\n",
      " 'the tumor and allow for planning of the most suitable surgical approach '\n",
      " 'based on the treatment response.\\n'\n",
      " '\\n'\n",
      " '3. **Chain of Thought to Reach Justifications:**\\n'\n",
      " '   - Ms. Chua expressed a significant emotional barrier to mastectomy due to '\n",
      " 'a strong attachment to her breast. Thus, seeking an alternative that '\n",
      " 'provides a chance for breast preservation is paramount.\\n'\n",
      " '   - Considering her tumor is large, typical recommendations gravitate '\n",
      " 'toward mastectomy; however, the option of NACT introduces the possibility of '\n",
      " 'tumor reduction. Hence, the rationale to treat her with chemotherapy first '\n",
      " 'stems from both physical and psychosocial aspects of her treatment.\\n'\n",
      " '   - The oncological community acknowledges the efficacy of NACT in managing '\n",
      " 'locally advanced breast cancer, and emerging evidence suggests that patients '\n",
      " 'undergoing NACT prior to surgery could experience similar outcomes in terms '\n",
      " 'of recurrence rates as those opting for upfront mastectomy.\\n'\n",
      " '\\n'\n",
      " '4. **Risks to Patient:**\\n'\n",
      " '   - **Side Effects of Chemotherapy:** The patient needs to be informed '\n",
      " 'about the potential side effects associated with chemotherapy, including '\n",
      " 'nausea, fatigue, hair loss, and a weakened immune system, which could impact '\n",
      " 'her quality of life during treatment.\\n'\n",
      " '   - **Incomplete Tumor Response:** There remains a risk that the tumor may '\n",
      " 'not respond sufficiently to chemotherapy, in which case a mastectomy might '\n",
      " 'still be necessary, leading to a situation where Ms. Chua still has to face '\n",
      " 'her original fears.\\n'\n",
      " '   - **Timing and Uncertainty:** Delaying surgery with the hope that the '\n",
      " 'chemotherapy will reduce tumor size can cause psychological stress for the '\n",
      " 'patient if the anticipated response does not occur or the timeline extends '\n",
      " 'longer than expected.\\n'\n",
      " '   - **Additional Surgical Risks:** If the first surgical attempt '\n",
      " '(lumpectomy) is not successful due to unclear margins, there may be the need '\n",
      " 'for a second surgery, which can be a source of additional anxiety and '\n",
      " 'physical burden.\\n'\n",
      " '\\n'\n",
      " 'In conclusion, the recommended course of NACT followed by assessment for '\n",
      " 'lumpectomy aligns with both clinical efficacy principles and the patient’s '\n",
      " 'desires, while careful attention must be given to the potential risks '\n",
      " 'associated with this approach. Regular monitoring and emotional support '\n",
      " \"should also accompany the treatment plan to address Ms. Chua's concerns \"\n",
      " 'throughout her journey.')\n"
     ]
    }
   ],
   "source": [
    "pprint.pp(completion.choices[0].message.content)"
   ]
  },
  {
   "cell_type": "code",
   "execution_count": null,
   "metadata": {},
   "outputs": [],
   "source": []
  },
  {
   "cell_type": "code",
   "execution_count": 13,
   "metadata": {},
   "outputs": [
    {
     "data": {
      "text/plain": [
       "12"
      ]
     },
     "execution_count": 13,
     "metadata": {},
     "output_type": "execute_result"
    }
   ],
   "source": [
    "loader = CSVLoader('data/treatment_selection.csv')#, csv_args={'fieldnames':['']})\n",
    "docs = loader.load()\n",
    "len(docs)"
   ]
  },
  {
   "cell_type": "code",
   "execution_count": null,
   "metadata": {},
   "outputs": [],
   "source": [
    "COLLECTION_NAME = \"pictures_db\"\n",
    "# This creates a persistent vector store (a SQL table). You should run this ONCE only\n",
    "db1 = IRISVector.from_documents(\n",
    "    embedding=embeddings,\n",
    "    documents=docs,\n",
    "    collection_name=COLLECTION_NAME,\n",
    "    connection_string=CONNECTION_STRING,\n",
    ")"
   ]
  },
  {
   "cell_type": "code",
   "execution_count": null,
   "metadata": {},
   "outputs": [],
   "source": []
  },
  {
   "cell_type": "code",
   "execution_count": 14,
   "metadata": {},
   "outputs": [],
   "source": [
    "treatment_selection = pd.read_csv('data/treatment_selection.csv')\n",
    "treatment_selection['content'] = treatment_selection['surgery_type'] + ' ' + treatment_selection['benefit'] + ' ' + treatment_selection['consideration'] + ' ' + treatment_selection['tag']\n",
    "texts = treatment_selection['content'].dropna().tolist()  # Remove NaN values and convert to a list"
   ]
  },
  {
   "cell_type": "code",
   "execution_count": 15,
   "metadata": {},
   "outputs": [
    {
     "name": "stdout",
     "output_type": "stream",
     "text": [
      "Successfully added 12 rows (split into chunks) to ChromaDB!\n"
     ]
    }
   ],
   "source": [
    "COLLECTION_NAME = \"pictures_db\"\n",
    "\n",
    "db2 = chromadb_client.get_or_create_collection(name=COLLECTION_NAME)\n",
    "\n",
    "# Text splitter for chunking documents\n",
    "text_splitter = RecursiveCharacterTextSplitter(chunk_size=1000, chunk_overlap=100)\n",
    "\n",
    "# Process text into chunks and embeddings\n",
    "doc_id = 0\n",
    "for text in texts:\n",
    "    chunks = text_splitter.split_text(text)  # Split text into smaller chunks\n",
    "    actual_embeddings = embeddings.embed_documents(chunks)  # Generate embeddings\n",
    "    \n",
    "    # Add chunks to ChromaDB\n",
    "    db2.add(\n",
    "        ids=[f\"{doc_id}_{i}\" for i in range(len(chunks))],  # Unique IDs\n",
    "        documents=chunks,  # Text chunks\n",
    "        embeddings=actual_embeddings  # Corresponding embeddings\n",
    "    )\n",
    "    \n",
    "    doc_id += 1\n",
    "\n",
    "print(f\"Successfully added {len(texts)} rows (split into chunks) to ChromaDB!\")"
   ]
  },
  {
   "cell_type": "code",
   "execution_count": null,
   "metadata": {},
   "outputs": [],
   "source": []
  },
  {
   "cell_type": "code",
   "execution_count": null,
   "metadata": {},
   "outputs": [],
   "source": [
    "docs_with_score = db1.similarity_search_with_score(completion.choices[0].message.content, 1)\n",
    "for doc, score in docs_with_score:\n",
    "    print(\"-\" * 80)\n",
    "    print(\"Score: \", score)\n",
    "    print(doc.page_content)\n",
    "    print(\"-\" * 80)"
   ]
  },
  {
   "cell_type": "code",
   "execution_count": null,
   "metadata": {},
   "outputs": [],
   "source": []
  },
  {
   "cell_type": "code",
   "execution_count": 16,
   "metadata": {},
   "outputs": [
    {
     "name": "stdout",
     "output_type": "stream",
     "text": [
      "Result 1: lumpectomy small cut; shorter recovery; conserve shape; suitable for early-stage additional radiotherapy cost; possibility of 2nd surgery; longer treatment process img1\n",
      "Score: 0.36170491630158985\n",
      "\n"
     ]
    }
   ],
   "source": [
    "# Perform a similarity search\n",
    "query_embedding = embeddings.embed_query(completion.choices[0].message.content)  # Generate embedding for the query\n",
    "\n",
    "# Retrieve top 5 most similar results\n",
    "results = db2.query(\n",
    "    query_embeddings=[query_embedding],  # Query embedding\n",
    "    n_results=1  # Number of similar documents to retrieve\n",
    ")\n",
    "\n",
    "# Print the search results\n",
    "for i, doc in enumerate(results[\"documents\"][0]):\n",
    "    print(f\"Result {i+1}: {doc}\")\n",
    "    print(f\"Score: {results['distances'][0][i]}\\n\")\n"
   ]
  },
  {
   "cell_type": "code",
   "execution_count": null,
   "metadata": {},
   "outputs": [],
   "source": []
  },
  {
   "cell_type": "code",
   "execution_count": null,
   "metadata": {},
   "outputs": [],
   "source": [
    "image_chosen = doc.page_content.split('\\n')[-1].split(': ')[-1] + \".jpeg\""
   ]
  },
  {
   "cell_type": "code",
   "execution_count": null,
   "metadata": {},
   "outputs": [],
   "source": [
    "image_chosen"
   ]
  },
  {
   "cell_type": "code",
   "execution_count": null,
   "metadata": {},
   "outputs": [
    {
     "data": {
      "text/plain": [
       "'lumpectomy small cut; shorter recovery; conserve shape; suitable for early-stage additional radiotherapy cost; possibility of 2nd surgery; longer treatment process img1'"
      ]
     },
     "execution_count": 20,
     "metadata": {},
     "output_type": "execute_result"
    }
   ],
   "source": []
  },
  {
   "cell_type": "code",
   "execution_count": 17,
   "metadata": {},
   "outputs": [],
   "source": [
    "image_chosen = doc.split(' ')[-1] + \".jpeg\""
   ]
  },
  {
   "cell_type": "code",
   "execution_count": 18,
   "metadata": {},
   "outputs": [
    {
     "data": {
      "text/plain": [
       "'img1.jpeg'"
      ]
     },
     "execution_count": 18,
     "metadata": {},
     "output_type": "execute_result"
    }
   ],
   "source": [
    "image_chosen"
   ]
  },
  {
   "cell_type": "markdown",
   "metadata": {},
   "source": [
    "# Misc"
   ]
  },
  {
   "cell_type": "code",
   "execution_count": null,
   "metadata": {},
   "outputs": [],
   "source": [
    "# completion = client.chat.completions.create(\n",
    "#     model=\"gpt-4o-mini\",\n",
    "#     messages=[\n",
    "#         {\n",
    "#             \"role\": \"system\", \n",
    "#             \"content\": \"\"\"\n",
    "#             Factors For Lumpectomy:\n",
    "# Breast Conservation – Preserves the natural breast, which may be important for some women, though Mdm Ang has indicated she may be able to accept a flat chest.\n",
    "# Less Invasive Surgery – Typically, a shorter recovery time compared to a mastectomy.\n",
    "# Factors Against Lumpectomy:\n",
    "# Need for Frequent Follow-Ups – Requires post-surgical radiotherapy, which means multiple hospital visits, a significant concern for Mdm Ang since she finds it difficult to travel to the hospital frequently.\n",
    "# Risk of Second Surgery – If the lumpectomy does not achieve clear margins, a second surgery may be required, which Mdm Ang wants to avoid.\n",
    "# Overall Treatment Burden – The combination of surgery and radiotherapy means a longer treatment course, which may not be ideal given her preference for a one-time treatment.\n",
    "# Since Mdm Ang prioritizes minimizing hospital visits and avoiding the possibility of a second surgery, mastectomy without reconstruction aligns better with her needs.\n",
    "# \"\"\"},\n",
    "#         {\n",
    "#             \"role\": \"user\",\n",
    "#             \"content\": f\"\"\"\n",
    "# 1) cannot accept mastectomy\n",
    "# 2) wants reconstruction but cannot accept implant - can accept tram or LD flap \n",
    "# 3) only wants lumpectomy ok for second surgery\n",
    "# 4) tumor too big but really only want breast conserving and considering oncoplastic surgery - accepting of a slightly longer scar to maintain symmetry of best \n",
    "# 5) big tumor but cannot accept mastectomy, discuss neoadjuvant chemotherapy- risks and benefits and agreeable for trial of nact before mastectomy\n",
    "# 6) cost concerns. \n",
    "# Deciding between Breast conserving but with radiotherapy versus mastectomy without recon \n",
    "# Recon too expensive\n",
    "# 7) concern about drain management and no caregiver - prefers fast recovery - lumpectomy \n",
    "# 8 ) doesn’t want radiotherapy strongly  - mastectomy the.\n",
    "#             .\"\"\"\n",
    "#         }\n",
    "#     ]\n",
    "# )"
   ]
  },
  {
   "cell_type": "code",
   "execution_count": null,
   "metadata": {},
   "outputs": [],
   "source": [
    "# from langchain.text_splitter import CharacterTextSplitter\n",
    "\n",
    "# text = \"Your long document text here...\"\n",
    "\n",
    "# splitter = CharacterTextSplitter(\n",
    "#     separator=\"\\n\\n\",\n",
    "#     chunk_size=1000,\n",
    "#     chunk_overlap=200\n",
    "# )\n",
    "\n",
    "# chunks = splitter.split_text(text) #you can also split documents using split_documents\n",
    "\n",
    "# from langchain.text_splitter import RecursiveCharacterTextSplitter\n",
    "\n",
    "# text = \"Your long document text here...\"\n",
    "\n",
    "# splitter = RecursiveCharacterTextSplitter(\n",
    "#     separators=[\"\\n\\n\", \"\\n\", \" \", \"\"],\n",
    "#     chunk_size=1000,\n",
    "#     chunk_overlap=200,\n",
    "#     length_function=len\n",
    "# )\n",
    "\n",
    "# chunks = splitter.split_text(text)"
   ]
  }
 ],
 "metadata": {
  "kernelspec": {
   "display_name": "iris-env",
   "language": "python",
   "name": "python3"
  },
  "language_info": {
   "codemirror_mode": {
    "name": "ipython",
    "version": 3
   },
   "file_extension": ".py",
   "mimetype": "text/x-python",
   "name": "python",
   "nbconvert_exporter": "python",
   "pygments_lexer": "ipython3",
   "version": "3.10.6"
  }
 },
 "nbformat": 4,
 "nbformat_minor": 2
}
