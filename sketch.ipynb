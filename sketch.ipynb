{
 "cells": [
  {
   "cell_type": "code",
   "execution_count": 1,
   "metadata": {},
   "outputs": [],
   "source": [
    "import getpass\n",
    "import os\n",
    "from dotenv import load_dotenv\n",
    "\n",
    "load_dotenv(override=True)\n",
    "\n",
    "if not os.environ.get(\"OPENAI_API_KEY\"): \n",
    "    os.environ[\"OPENAI_API_KEY\"] = getpass.getpass(\"OpenAI API Key:\")\n",
    "\n",
    "from openai import OpenAI"
   ]
  },
  {
   "cell_type": "code",
   "execution_count": 2,
   "metadata": {},
   "outputs": [],
   "source": [
    "from langchain.docstore.document import Document\n",
    "from langchain.document_loaders import TextLoader, Docx2txtLoader, DirectoryLoader, UnstructuredWordDocumentLoader\n",
    "from langchain.text_splitter import CharacterTextSplitter, SpacyTextSplitter, RecursiveCharacterTextSplitter\n",
    "from langchain.embeddings.openai import OpenAIEmbeddings\n",
    "\n",
    "from langchain_iris import IRISVector"
   ]
  },
  {
   "cell_type": "code",
   "execution_count": 3,
   "metadata": {},
   "outputs": [
    {
     "name": "stderr",
     "output_type": "stream",
     "text": [
      "/var/folders/0n/6bwdvxdj6tz_d082n8rflq140000gn/T/ipykernel_40483/1207519732.py:2: LangChainDeprecationWarning: The class `OpenAIEmbeddings` was deprecated in LangChain 0.0.9 and will be removed in 1.0. An updated version of the class exists in the :class:`~langchain-openai package and should be used instead. To use it run `pip install -U :class:`~langchain-openai` and import as `from :class:`~langchain_openai import OpenAIEmbeddings``.\n",
      "  embeddings = OpenAIEmbeddings()\n"
     ]
    }
   ],
   "source": [
    "client = OpenAI()\n",
    "embeddings = OpenAIEmbeddings()"
   ]
  },
  {
   "cell_type": "code",
   "execution_count": 4,
   "metadata": {},
   "outputs": [],
   "source": [
    "username = 'demo'\n",
    "password = 'demo' \n",
    "hostname = os.getenv('IRIS_HOSTNAME', 'localhost')\n",
    "port = '1972' \n",
    "namespace = 'USER'\n",
    "CONNECTION_STRING = f\"iris://{username}:{password}@{hostname}:{port}/{namespace}\"\n",
    "# Under the hood, this becomes a SQL table. CANNOT have '.' in the name\n",
    "COLLECTION_NAME = \"cancer_db\""
   ]
  },
  {
   "cell_type": "code",
   "execution_count": 5,
   "metadata": {},
   "outputs": [],
   "source": [
    "# loader = DirectoryLoader('data', glob='*.docx', loader_cls=Docx2txtLoader)\n",
    "# docs = loader.load()\n",
    "# len(docs)"
   ]
  },
  {
   "cell_type": "code",
   "execution_count": 6,
   "metadata": {},
   "outputs": [],
   "source": [
    "# text_splitter = SpacyTextSplitter(chunk_size=400, chunk_overlap=20)\n",
    "# docs = text_splitter.split_documents(docs)"
   ]
  },
  {
   "cell_type": "code",
   "execution_count": 7,
   "metadata": {},
   "outputs": [],
   "source": [
    "# # This creates a persistent vector store (a SQL table). You should run this ONCE only\n",
    "# db = IRISVector.from_documents(\n",
    "#     embedding=embeddings,\n",
    "#     documents=docs,\n",
    "#     collection_name=COLLECTION_NAME,\n",
    "#     connection_string=CONNECTION_STRING,\n",
    "# )"
   ]
  },
  {
   "cell_type": "code",
   "execution_count": 8,
   "metadata": {},
   "outputs": [],
   "source": [
    "# Subsequent calls to reconnect to the database and make searches should use this.  \n",
    "\n",
    "db = IRISVector(\n",
    "    embedding_function=embeddings,\n",
    "    dimension=1536,\n",
    "    collection_name=COLLECTION_NAME,\n",
    "    connection_string=CONNECTION_STRING,\n",
    ")"
   ]
  },
  {
   "cell_type": "code",
   "execution_count": 9,
   "metadata": {},
   "outputs": [
    {
     "name": "stdout",
     "output_type": "stream",
     "text": [
      "Number of docs in vector store: 206\n"
     ]
    }
   ],
   "source": [
    "print(f\"Number of docs in vector store: {len(db.get()['ids'])}\")"
   ]
  },
  {
   "cell_type": "code",
   "execution_count": 10,
   "metadata": {},
   "outputs": [],
   "source": [
    "f = open(\"data/s_test.txt\", \"r\", encoding='ISO-8859-1')\n",
    "# query = \"new technology\"\n",
    "scenario = f.read()\n",
    "\n",
    "f = open(\"data/knowledge.docx\", \"r\", encoding='ISO-8859-1')\n",
    "# query = \"new technology\"\n",
    "knowledge = f.read()"
   ]
  },
  {
   "cell_type": "code",
   "execution_count": 11,
   "metadata": {},
   "outputs": [
    {
     "name": "stdout",
     "output_type": "stream",
     "text": [
      "--------------------------------------------------------------------------------\n",
      "Score:  0.057097903683261\n",
      "Premise: Pt has a big tumor but cannot accept mastectomy, discuss neoadjuvant chemotherapy- risks and benefits and agreeable for trial of nact before mastectomy\n",
      "\n",
      "Patient Scenario\n",
      "\n",
      "Dr. Tan: Good morning, Ms. Chua.\n",
      "\n",
      "Thank you for coming in today.\n",
      "\n",
      "I understand that you’ve been thinking a lot about your treatment options.\n",
      "\n",
      "How are you feeling?\n",
      "\n",
      "\n",
      "\n",
      "Ms. Chua: Good morning, Dr. Tan.\n",
      "\n",
      "I’m very worried.\n",
      "--------------------------------------------------------------------------------\n",
      "--------------------------------------------------------------------------------\n",
      "Score:  0.057857733070306\n",
      "Dr. Tan: I understand how difficult this decision can be. Since your tumor is large, a mastectomy is typically the recommended approach. However, in some cases, we can try neoadjuvant chemotherapy (NACT) first. This means giving chemotherapy before surgery to shrink the tumor, potentially allowing for breast-conserving surgery instead of a mastectomy.\n",
      "--------------------------------------------------------------------------------\n"
     ]
    }
   ],
   "source": [
    "docs_with_score = db.similarity_search_with_score(scenario, 2)\n",
    "for doc, score in docs_with_score:\n",
    "    print(\"-\" * 80)\n",
    "    print(\"Score: \", score)\n",
    "    print(doc.page_content)\n",
    "    print(\"-\" * 80)"
   ]
  },
  {
   "cell_type": "code",
   "execution_count": 12,
   "metadata": {},
   "outputs": [
    {
     "data": {
      "text/plain": [
       "[Document(metadata={'source': 'data/s5.docx'}, page_content='Premise: Pt has a big tumor but cannot accept mastectomy, discuss neoadjuvant chemotherapy- risks and benefits and agreeable for trial of nact before mastectomy\\n\\nPatient Scenario\\n\\nDr. Tan: Good morning, Ms. Chua.\\n\\nThank you for coming in today.\\n\\nI understand that you’ve been thinking a lot about your treatment options.\\n\\nHow are you feeling?\\n\\n\\n\\nMs. Chua: Good morning, Dr. Tan.\\n\\nI’m very worried.'),\n",
       " Document(metadata={'source': 'data/s5.docx'}, page_content='Dr. Tan: I understand how difficult this decision can be. Since your tumor is large, a mastectomy is typically the recommended approach. However, in some cases, we can try neoadjuvant chemotherapy (NACT) first. This means giving chemotherapy before surgery to shrink the tumor, potentially allowing for breast-conserving surgery instead of a mastectomy.'),\n",
       " Document(metadata={'source': 'data/s5.docx'}, page_content='Ms. Chua: Really? So there’s a chance I might not need a mastectomy if the tumor shrinks enough?\\n\\nDr. Tan: Yes, that’s possible. NACT can reduce the tumor size, and if the response is good, we may be able to proceed with a lumpectomy instead of a mastectomy. However, the response to chemotherapy varies between patients. If the tumor does not shrink enough, we may still need to do a mastectomy.'),\n",
       " Document(metadata={'source': 'data/s5.docx'}, page_content='Ms. Chua: I really want to try. If there’s even a chance I can avoid mastectomy, I think I should go for it.\\n\\nDr. Tan: That’s a reasonable approach. We will monitor your tumor’s response closely with imaging and reassess after a few cycles of chemotherapy. If the tumor shrinks adequately, we can plan for breast-conserving surgery. If not, we will discuss the next steps together.')]"
      ]
     },
     "execution_count": 12,
     "metadata": {},
     "output_type": "execute_result"
    }
   ],
   "source": [
    "embedding_vector = embeddings.embed_query(scenario)\n",
    "res = db.similarity_search_by_vector(embedding_vector)\n",
    "res"
   ]
  },
  {
   "cell_type": "code",
   "execution_count": 13,
   "metadata": {},
   "outputs": [],
   "source": [
    "full_res = ''\n",
    "for each_res in res:\n",
    "    full_res = full_res + '\\n\\n' +each_res.page_content"
   ]
  },
  {
   "cell_type": "code",
   "execution_count": 14,
   "metadata": {},
   "outputs": [],
   "source": [
    "completion = client.chat.completions.create(\n",
    "    model=\"gpt-4o-mini\",\n",
    "    messages=[\n",
    "        {\n",
    "            \"role\": \"system\", \n",
    "            \"content\": \n",
    "                f\"\"\"\n",
    "                A medical doctor with domain knowledge in breast cancer after having trained with a wealth of knowledge in these topics: {knowledge}.\n",
    "                Augment your data with results from {full_res}\n",
    "                \"\"\"\n",
    "        },\n",
    "        {\n",
    "            \"role\": \"user\",\n",
    "            \"content\": \n",
    "                f\"\"\"\n",
    "                Given patient's consultation with the doctor in this {scenario}, \n",
    "                recommend \n",
    "                1. the best course of treatment\n",
    "                2. provide justifications for the course\n",
    "                3. provide chain of thought to reach those justifications\n",
    "                4. highlight risks to patient\n",
    "                \"\"\"\n",
    "        }\n",
    "    ]\n",
    ")\n"
   ]
  },
  {
   "cell_type": "code",
   "execution_count": 15,
   "metadata": {},
   "outputs": [],
   "source": [
    "import pprint"
   ]
  },
  {
   "cell_type": "code",
   "execution_count": 16,
   "metadata": {},
   "outputs": [
    {
     "name": "stdout",
     "output_type": "stream",
     "text": [
      "('### Recommended Course of Treatment\\n'\n",
      " '\\n'\n",
      " '**1. Best Course of Treatment: Neoadjuvant Chemotherapy (NACT) Followed by '\n",
      " 'Surgical Evaluation**\\n'\n",
      " '\\n'\n",
      " '**2. Justifications for the Course:**\\n'\n",
      " '- **Potential for Tumor Reduction:** NACT offers the chance to shrink the '\n",
      " 'tumor size, which could enable breast-conserving surgery (lumpectomy) '\n",
      " \"instead of mastectomy. This aligns with Ms. Chua's desire to retain her \"\n",
      " 'breast.\\n'\n",
      " '- **Assessment of Chemotherapy Efficacy:** Administering chemotherapy before '\n",
      " \"surgery allows for evaluation of the tumor's responsiveness to treatment. If \"\n",
      " 'the tumor responds well, it may also indicate a more favorable prognosis.\\n'\n",
      " '- **Possibility of Improved Surgical Outcomes:** In cases where tumors '\n",
      " 'respond adequately, NACT can lead to less extensive surgical intervention, '\n",
      " 'which is often preferred by patients for quality-of-life reasons.\\n'\n",
      " '\\n'\n",
      " '**3. Chain of Thought to Reach Those Justifications:**\\n'\n",
      " \"- **Understanding Patient's Concerns:** Ms. Chua's strong preference against \"\n",
      " 'mastectomy highlights the need to explore alternatives that preserve breast '\n",
      " 'tissue. \\n'\n",
      " '- **Evaluating Treatment Options:** Based on clinical guidelines and '\n",
      " 'evidence, neoadjuvant chemotherapy can be a strategic first step for larger '\n",
      " 'tumors, especially when conservative surgery is the goal.\\n'\n",
      " '- **Patient-Centric Approach:** The decision to embark on NACT is supported '\n",
      " 'because it allows Ms. Chua to make an informed choice regarding her '\n",
      " 'treatment, taking her preferences into account while still adhering to '\n",
      " 'medically sound practices.\\n'\n",
      " '\\n'\n",
      " '**4. Highlight Risks to the Patient:**\\n'\n",
      " '- **Side Effects of Chemotherapy:**\\n'\n",
      " '  - **Short-term Effects:** Common side effects include nausea, vomiting, '\n",
      " 'fatigue, hair loss, and increased susceptibility to infections due to a '\n",
      " 'weakened immune system.\\n'\n",
      " '  - **Long-term Risks:** There may be potential long-term effects, such as '\n",
      " 'fertility issues or other organ-specific toxicities, depending on the '\n",
      " 'chemotherapy agents used.\\n'\n",
      " '- **Incomplete Response:** There is a risk that the tumor may not shrink '\n",
      " 'sufficiently, which would still necessitate a mastectomy.\\n'\n",
      " '- **Emotional and Psychological Impact:** The uncertainty associated with '\n",
      " 'treatment response can be a source of anxiety and stress for the patient, '\n",
      " 'particularly when the outcome is unpredictable.\\n'\n",
      " '\\n'\n",
      " 'In conclusion, the recommended course focuses on neoadjuvant chemotherapy '\n",
      " 'due to its potential benefits in reducing tumor size while addressing the '\n",
      " 'patient’s concerns about preserving her breast. Nonetheless, the treatment '\n",
      " 'plan requires careful monitoring and clear communication about the inherent '\n",
      " 'risks and the possibility of needing more extensive surgery thereafter.')\n"
     ]
    }
   ],
   "source": [
    "pprint.pp(completion.choices[0].message.content)"
   ]
  },
  {
   "cell_type": "markdown",
   "metadata": {},
   "source": [
    "# Misc"
   ]
  },
  {
   "cell_type": "code",
   "execution_count": 17,
   "metadata": {},
   "outputs": [],
   "source": [
    "# completion = client.chat.completions.create(\n",
    "#     model=\"gpt-4o-mini\",\n",
    "#     messages=[\n",
    "#         {\n",
    "#             \"role\": \"system\", \n",
    "#             \"content\": \"\"\"\n",
    "#             Factors For Lumpectomy:\n",
    "# Breast Conservation – Preserves the natural breast, which may be important for some women, though Mdm Ang has indicated she may be able to accept a flat chest.\n",
    "# Less Invasive Surgery – Typically, a shorter recovery time compared to a mastectomy.\n",
    "# Factors Against Lumpectomy:\n",
    "# Need for Frequent Follow-Ups – Requires post-surgical radiotherapy, which means multiple hospital visits, a significant concern for Mdm Ang since she finds it difficult to travel to the hospital frequently.\n",
    "# Risk of Second Surgery – If the lumpectomy does not achieve clear margins, a second surgery may be required, which Mdm Ang wants to avoid.\n",
    "# Overall Treatment Burden – The combination of surgery and radiotherapy means a longer treatment course, which may not be ideal given her preference for a one-time treatment.\n",
    "# Since Mdm Ang prioritizes minimizing hospital visits and avoiding the possibility of a second surgery, mastectomy without reconstruction aligns better with her needs.\n",
    "# \"\"\"},\n",
    "#         {\n",
    "#             \"role\": \"user\",\n",
    "#             \"content\": f\"\"\"\n",
    "# 1) cannot accept mastectomy\n",
    "# 2) wants reconstruction but cannot accept implant - can accept tram or LD flap \n",
    "# 3) only wants lumpectomy ok for second surgery\n",
    "# 4) tumor too big but really only want breast conserving and considering oncoplastic surgery - accepting of a slightly longer scar to maintain symmetry of best \n",
    "# 5) big tumor but cannot accept mastectomy, discuss neoadjuvant chemotherapy- risks and benefits and agreeable for trial of nact before mastectomy\n",
    "# 6) cost concerns. \n",
    "# Deciding between Breast conserving but with radiotherapy versus mastectomy without recon \n",
    "# Recon too expensive\n",
    "# 7) concern about drain management and no caregiver - prefers fast recovery - lumpectomy \n",
    "# 8 ) doesn’t want radiotherapy strongly  - mastectomy the.\n",
    "#             .\"\"\"\n",
    "#         }\n",
    "#     ]\n",
    "# )"
   ]
  },
  {
   "cell_type": "code",
   "execution_count": 18,
   "metadata": {},
   "outputs": [],
   "source": [
    "# from langchain.text_splitter import CharacterTextSplitter\n",
    "\n",
    "# text = \"Your long document text here...\"\n",
    "\n",
    "# splitter = CharacterTextSplitter(\n",
    "#     separator=\"\\n\\n\",\n",
    "#     chunk_size=1000,\n",
    "#     chunk_overlap=200\n",
    "# )\n",
    "\n",
    "# chunks = splitter.split_text(text) #you can also split documents using split_documents\n",
    "\n",
    "# from langchain.text_splitter import RecursiveCharacterTextSplitter\n",
    "\n",
    "# text = \"Your long document text here...\"\n",
    "\n",
    "# splitter = RecursiveCharacterTextSplitter(\n",
    "#     separators=[\"\\n\\n\", \"\\n\", \" \", \"\"],\n",
    "#     chunk_size=1000,\n",
    "#     chunk_overlap=200,\n",
    "#     length_function=len\n",
    "# )\n",
    "\n",
    "# chunks = splitter.split_text(text)"
   ]
  }
 ],
 "metadata": {
  "kernelspec": {
   "display_name": "iris-env",
   "language": "python",
   "name": "python3"
  },
  "language_info": {
   "codemirror_mode": {
    "name": "ipython",
    "version": 3
   },
   "file_extension": ".py",
   "mimetype": "text/x-python",
   "name": "python",
   "nbconvert_exporter": "python",
   "pygments_lexer": "ipython3",
   "version": "3.10.6"
  }
 },
 "nbformat": 4,
 "nbformat_minor": 2
}
