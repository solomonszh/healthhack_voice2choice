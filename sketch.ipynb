{
 "cells": [
  {
   "cell_type": "code",
   "execution_count": null,
   "metadata": {},
   "outputs": [],
   "source": [
    "import getpass\n",
    "import pprint\n",
    "import os\n",
    "\n",
    "from dotenv import load_dotenv\n",
    "\n",
    "load_dotenv(override=True)\n",
    "\n",
    "if not os.environ.get(\"OPENAI_API_KEY\"): \n",
    "    os.environ[\"OPENAI_API_KEY\"] = getpass.getpass(\"OpenAI API Key:\")\n",
    "\n",
    "from openai import OpenAI"
   ]
  },
  {
   "cell_type": "code",
   "execution_count": 32,
   "metadata": {},
   "outputs": [],
   "source": [
    "from langchain.docstore.document import Document\n",
    "from langchain.document_loaders import TextLoader, Docx2txtLoader, DirectoryLoader, UnstructuredWordDocumentLoader, UnstructuredExcelLoader, CSVLoader\n",
    "from langchain.text_splitter import CharacterTextSplitter, SpacyTextSplitter, RecursiveCharacterTextSplitter\n",
    "from langchain.embeddings.openai import OpenAIEmbeddings\n",
    "\n",
    "from langchain_iris import IRISVector"
   ]
  },
  {
   "cell_type": "code",
   "execution_count": 3,
   "metadata": {},
   "outputs": [
    {
     "name": "stderr",
     "output_type": "stream",
     "text": [
      "/var/folders/0n/6bwdvxdj6tz_d082n8rflq140000gn/T/ipykernel_41609/1207519732.py:2: LangChainDeprecationWarning: The class `OpenAIEmbeddings` was deprecated in LangChain 0.0.9 and will be removed in 1.0. An updated version of the class exists in the :class:`~langchain-openai package and should be used instead. To use it run `pip install -U :class:`~langchain-openai` and import as `from :class:`~langchain_openai import OpenAIEmbeddings``.\n",
      "  embeddings = OpenAIEmbeddings()\n"
     ]
    }
   ],
   "source": [
    "client = OpenAI()\n",
    "embeddings = OpenAIEmbeddings()"
   ]
  },
  {
   "cell_type": "code",
   "execution_count": null,
   "metadata": {},
   "outputs": [],
   "source": [
    "username = 'demo'\n",
    "password = 'demo' \n",
    "hostname = os.getenv('IRIS_HOSTNAME', 'localhost')\n",
    "port = '1972' \n",
    "namespace = 'USER'\n",
    "CONNECTION_STRING = f\"iris://{username}:{password}@{hostname}:{port}/{namespace}\"\n",
    "# Under the hood, this becomes a SQL table. CANNOT have '.' in the name"
   ]
  },
  {
   "cell_type": "code",
   "execution_count": null,
   "metadata": {},
   "outputs": [
    {
     "data": {
      "text/plain": [
       "11"
      ]
     },
     "execution_count": 10,
     "metadata": {},
     "output_type": "execute_result"
    }
   ],
   "source": [
    "# loader = DirectoryLoader('data', glob='*.docx', loader_cls=Docx2txtLoader)\n",
    "# docs = loader.load()\n",
    "# len(docs)"
   ]
  },
  {
   "cell_type": "code",
   "execution_count": null,
   "metadata": {},
   "outputs": [
    {
     "name": "stderr",
     "output_type": "stream",
     "text": [
      "/Users/admintech_solomonsoh/.pyenv/versions/3.10/envs/iris-env/lib/python3.10/site-packages/spacy/pipeline/lemmatizer.py:211: UserWarning: [W108] The rule-based lemmatizer did not find POS annotation for one or more tokens. Check that your pipeline includes components that assign token.pos, typically 'tagger'+'attribute_ruler' or 'morphologizer'.\n",
      "  warnings.warn(Warnings.W108)\n"
     ]
    }
   ],
   "source": [
    "# text_splitter = SpacyTextSplitter(chunk_size=400, chunk_overlap=20)\n",
    "# docs = text_splitter.split_documents(docs)"
   ]
  },
  {
   "cell_type": "code",
   "execution_count": null,
   "metadata": {},
   "outputs": [],
   "source": [
    "# # This creates a persistent vector store (a SQL table). You should run this ONCE only\n",
    "# db = IRISVector.from_documents(\n",
    "#     embedding=embeddings,\n",
    "#     documents=docs,\n",
    "#     collection_name=COLLECTION_NAME,\n",
    "#     connection_string=CONNECTION_STRING,\n",
    "# )"
   ]
  },
  {
   "cell_type": "code",
   "execution_count": null,
   "metadata": {},
   "outputs": [],
   "source": [
    "COLLECTION_NAME = \"cancer_db\"\n",
    "# Subsequent calls to reconnect to the database and make searches should use this.  \n",
    "db = IRISVector(\n",
    "    embedding_function=embeddings,\n",
    "    dimension=1536,\n",
    "    collection_name=COLLECTION_NAME,\n",
    "    connection_string=CONNECTION_STRING,\n",
    ")"
   ]
  },
  {
   "cell_type": "code",
   "execution_count": 14,
   "metadata": {},
   "outputs": [
    {
     "name": "stdout",
     "output_type": "stream",
     "text": [
      "Number of docs in vector store: 128\n"
     ]
    }
   ],
   "source": [
    "print(f\"Number of docs in vector store: {len(db.get()['ids'])}\")"
   ]
  },
  {
   "cell_type": "code",
   "execution_count": 36,
   "metadata": {},
   "outputs": [],
   "source": [
    "f = open(\"data/s_test.txt\", \"r\", encoding='ISO-8859-1')\n",
    "# query = \"new technology\"\n",
    "scenario = f.read()\n",
    "\n",
    "f = open(\"data/knowledge.docx\", \"r\", encoding='ISO-8859-1')\n",
    "# query = \"new technology\"\n",
    "knowledge = f.read()"
   ]
  },
  {
   "cell_type": "code",
   "execution_count": 16,
   "metadata": {},
   "outputs": [
    {
     "name": "stdout",
     "output_type": "stream",
     "text": [
      "--------------------------------------------------------------------------------\n",
      "Score:  0.057097903683261\n",
      "Premise: Pt has a big tumor but cannot accept mastectomy, discuss neoadjuvant chemotherapy- risks and benefits and agreeable for trial of nact before mastectomy\n",
      "\n",
      "Patient Scenario\n",
      "\n",
      "Dr. Tan: Good morning, Ms. Chua.\n",
      "\n",
      "Thank you for coming in today.\n",
      "\n",
      "I understand that you’ve been thinking a lot about your treatment options.\n",
      "\n",
      "How are you feeling?\n",
      "\n",
      "\n",
      "\n",
      "Ms. Chua: Good morning, Dr. Tan.\n",
      "\n",
      "I’m very worried.\n",
      "--------------------------------------------------------------------------------\n",
      "--------------------------------------------------------------------------------\n",
      "Score:  0.063451157120054\n",
      "NACT can reduce the tumor size, and if the response is good, we may be able to proceed with a lumpectomy instead of a mastectomy.\n",
      "\n",
      "However, the response to chemotherapy varies between patients.\n",
      "\n",
      "If the tumor does not shrink enough, we may still need to do a mastectomy.\n",
      "\n",
      "\n",
      "\n",
      "Ms. Chua: I see.\n",
      "\n",
      "What are the risks of trying chemotherapy first?\n",
      "--------------------------------------------------------------------------------\n"
     ]
    }
   ],
   "source": [
    "docs_with_score = db.similarity_search_with_score(scenario, 2)\n",
    "for doc, score in docs_with_score:\n",
    "    print(\"-\" * 80)\n",
    "    print(\"Score: \", score)\n",
    "    print(doc.page_content)\n",
    "    print(\"-\" * 80)"
   ]
  },
  {
   "cell_type": "code",
   "execution_count": 17,
   "metadata": {},
   "outputs": [
    {
     "data": {
      "text/plain": [
       "[Document(metadata={'source': 'data/s5.docx'}, page_content='Premise: Pt has a big tumor but cannot accept mastectomy, discuss neoadjuvant chemotherapy- risks and benefits and agreeable for trial of nact before mastectomy\\n\\nPatient Scenario\\n\\nDr. Tan: Good morning, Ms. Chua.\\n\\nThank you for coming in today.\\n\\nI understand that you’ve been thinking a lot about your treatment options.\\n\\nHow are you feeling?\\n\\n\\n\\nMs. Chua: Good morning, Dr. Tan.\\n\\nI’m very worried.'),\n",
       " Document(metadata={'source': 'data/s5.docx'}, page_content='NACT can reduce the tumor size, and if the response is good, we may be able to proceed with a lumpectomy instead of a mastectomy.\\n\\nHowever, the response to chemotherapy varies between patients.\\n\\nIf the tumor does not shrink enough, we may still need to do a mastectomy.\\n\\n\\n\\nMs. Chua: I see.\\n\\nWhat are the risks of trying chemotherapy first?'),\n",
       " Document(metadata={'source': 'data/s5.docx'}, page_content='If there’s even a chance I can avoid mastectomy, I think I should go for it.\\n\\n\\n\\nDr. Tan: That’s a reasonable approach.\\n\\nWe will monitor your tumor’s response closely with imaging and reassess after a few cycles of chemotherapy.\\n\\nIf the tumor shrinks adequately, we can plan for breast-conserving surgery.\\n\\nIf not, we will discuss the next steps together.\\n\\n\\n\\nMs. Chua: Okay, I’m willing to try.'),\n",
       " Document(metadata={'source': 'data/s5.docx'}, page_content='This means giving chemotherapy before surgery to shrink the tumor, potentially allowing for breast-conserving surgery instead of a mastectomy.\\n\\n\\n\\nMs. Chua: Really?\\n\\nSo there’s a chance I might not need a mastectomy if the tumor shrinks enough?\\n\\n\\n\\nDr. Tan: Yes, that’s possible.')]"
      ]
     },
     "execution_count": 17,
     "metadata": {},
     "output_type": "execute_result"
    }
   ],
   "source": [
    "embedding_vector = embeddings.embed_query(scenario)\n",
    "res = db.similarity_search_by_vector(embedding_vector)\n",
    "res"
   ]
  },
  {
   "cell_type": "code",
   "execution_count": 18,
   "metadata": {},
   "outputs": [],
   "source": [
    "full_res = ''\n",
    "for each_res in res:\n",
    "    full_res = full_res + '\\n\\n' +each_res.page_content"
   ]
  },
  {
   "cell_type": "code",
   "execution_count": 19,
   "metadata": {},
   "outputs": [],
   "source": [
    "completion = client.chat.completions.create(\n",
    "    model=\"gpt-4o-mini\",\n",
    "    messages=[\n",
    "        {\n",
    "            \"role\": \"system\", \n",
    "            \"content\": \n",
    "                f\"\"\"\n",
    "                A medical doctor with domain knowledge in breast cancer after having trained with a wealth of knowledge in these topics: {knowledge}.\n",
    "                Augment your data with results from {full_res}\n",
    "                \"\"\"\n",
    "        },\n",
    "        {\n",
    "            \"role\": \"user\",\n",
    "            \"content\": \n",
    "                f\"\"\"\n",
    "                Given patient's consultation with the doctor in this {scenario}, \n",
    "                recommend \n",
    "                1. the best course of treatment\n",
    "                2. provide justifications for the course\n",
    "                3. provide chain of thought to reach those justifications\n",
    "                4. highlight risks to patient\n",
    "                \"\"\"\n",
    "        }\n",
    "    ]\n",
    ")\n"
   ]
  },
  {
   "cell_type": "code",
   "execution_count": 22,
   "metadata": {},
   "outputs": [
    {
     "name": "stdout",
     "output_type": "stream",
     "text": [
      "('**1. Best Course of Treatment:**\\n'\n",
      " '\\n'\n",
      " 'The recommended course of treatment for Ms. Chua is to proceed with '\n",
      " 'neoadjuvant chemotherapy (NACT) prior to surgery.\\n'\n",
      " '\\n'\n",
      " '**2. Justifications for the Course:**\\n'\n",
      " '\\n'\n",
      " '- **Tumor Reduction Potential**: Neoadjuvant chemotherapy has the primary '\n",
      " 'goal of reducing the size of the tumor, making it more amenable to '\n",
      " 'breast-conserving surgery (lumpectomy) instead of a mastectomy.\\n'\n",
      " '  \\n'\n",
      " '- **Patient Preference**: Ms. Chua has expressed a strong desire to avoid '\n",
      " 'mastectomy if possible. NACT aligns with her preferences while also '\n",
      " 'providing a medically sound approach.\\n'\n",
      " '  \\n'\n",
      " '- **Assessment and Monitoring**: NACT allows for close monitoring of the '\n",
      " \"tumor's response through imaging studies. If the tumor shrinks \"\n",
      " 'significantly, a more conservative surgical option can be pursued, which is '\n",
      " \"important for Ms. Chua's psychological well-being and quality of life.\\n\"\n",
      " '\\n'\n",
      " '- **No Immediate Surgical Risks**: By opting for NACT first, Ms. Chua avoids '\n",
      " 'the potential immediate complications of surgery and can minimize the risk '\n",
      " 'of infection or complications associated with mastectomy.\\n'\n",
      " '\\n'\n",
      " '**3. Chain of Thought for Justifications:**\\n'\n",
      " '\\n'\n",
      " '- **Understanding the Nature of the Tumor**: Given its size, a traditional '\n",
      " 'mastectomy is usually recommended as the first line of treatment. However, '\n",
      " 'this case presents an opportunity to try NACT due to the patient’s strong '\n",
      " 'preference for breast conservation.\\n'\n",
      " '  \\n'\n",
      " '- **Evaluating the Risks vs. Benefits**: While the risks associated with '\n",
      " 'chemotherapy (such as side effects) are known, the potential benefits of '\n",
      " 'tumor shrinkage and the psychological impact of preserving her breast '\n",
      " 'outweighs the immediate risks of proceeding directly with a mastectomy.\\n'\n",
      " '\\n'\n",
      " '- **Emphasizing Patient Autonomy**: Ms. Chua’s input and willingness to try '\n",
      " 'chemotherapy underline the importance of patient involvement in her '\n",
      " 'treatment plan. Empowering her to take an active role in her care can lead '\n",
      " 'to better satisfaction with the treatment process.\\n'\n",
      " '\\n'\n",
      " '**4. Highlighting Risks to Patient:**\\n'\n",
      " '\\n'\n",
      " '- **Chemotherapy Side Effects**: Patients can experience a range of side '\n",
      " 'effects from NACT, including:\\n'\n",
      " '  - Nausea and vomiting\\n'\n",
      " '  - Hair loss\\n'\n",
      " '  - Fatigue and weakness\\n'\n",
      " '  - Weakened immune system, increasing the risk of infections\\n'\n",
      " '\\n'\n",
      " '- **Tumor Non-Response**: There is a possibility that the tumor may not '\n",
      " 'shrink sufficiently in response to chemotherapy. In this case, Ms. Chua may '\n",
      " 'still have to undergo a mastectomy later on, which could be disheartening '\n",
      " 'after initially trying to avoid it.\\n'\n",
      " '\\n'\n",
      " '- **Emotional and Psychological Impact**: The uncertainty involved in '\n",
      " 'monitoring tumor response after chemotherapy can lead to increased anxiety '\n",
      " 'or stress levels for the patient.\\n'\n",
      " '\\n'\n",
      " 'In summary, while NACT presents certain risks, it can potentially offer '\n",
      " \"significant benefits tailored to Ms. Chua's needs and preferences, allowing \"\n",
      " 'for a more personalized and patient-centered approach to her breast cancer '\n",
      " 'treatment.')\n"
     ]
    }
   ],
   "source": [
    "pprint.pp(completion.choices[0].message.content)"
   ]
  },
  {
   "cell_type": "code",
   "execution_count": 43,
   "metadata": {},
   "outputs": [
    {
     "data": {
      "text/plain": [
       "12"
      ]
     },
     "execution_count": 43,
     "metadata": {},
     "output_type": "execute_result"
    }
   ],
   "source": [
    "loader = CSVLoader('data/treatment_selection.csv')#, csv_args={'fieldnames':['']})\n",
    "docs = loader.load()\n",
    "len(docs)"
   ]
  },
  {
   "cell_type": "code",
   "execution_count": 44,
   "metadata": {},
   "outputs": [],
   "source": [
    "COLLECTION_NAME = \"pictures_db\"\n",
    "# This creates a persistent vector store (a SQL table). You should run this ONCE only\n",
    "db1 = IRISVector.from_documents(\n",
    "    embedding=embeddings,\n",
    "    documents=docs,\n",
    "    collection_name=COLLECTION_NAME,\n",
    "    connection_string=CONNECTION_STRING,\n",
    ")"
   ]
  },
  {
   "cell_type": "code",
   "execution_count": 46,
   "metadata": {},
   "outputs": [
    {
     "name": "stdout",
     "output_type": "stream",
     "text": [
      "--------------------------------------------------------------------------------\n",
      "Score:  0.181232394924638\n",
      "﻿surgery_type: mastectomy\n",
      "benefit: reduced local recurrence risk; rarely requires radiotherapy\n",
      "consideration: permanent breast removal; needs drain management; longer recovery time\n",
      "tag: img9\n",
      "--------------------------------------------------------------------------------\n"
     ]
    }
   ],
   "source": [
    "docs_with_score = db1.similarity_search_with_score(completion.choices[0].message.content, 1)\n",
    "for doc, score in docs_with_score:\n",
    "    print(\"-\" * 80)\n",
    "    print(\"Score: \", score)\n",
    "    print(doc.page_content)\n",
    "    print(\"-\" * 80)"
   ]
  },
  {
   "cell_type": "code",
   "execution_count": 57,
   "metadata": {},
   "outputs": [],
   "source": [
    "image_chosen = doc.page_content.split('\\n')[-1].split(': ')[-1] + \".jpeg\""
   ]
  },
  {
   "cell_type": "code",
   "execution_count": 58,
   "metadata": {},
   "outputs": [
    {
     "data": {
      "text/plain": [
       "'img9.jpeg'"
      ]
     },
     "execution_count": 58,
     "metadata": {},
     "output_type": "execute_result"
    }
   ],
   "source": [
    "image_chosen"
   ]
  },
  {
   "cell_type": "markdown",
   "metadata": {},
   "source": [
    "# Misc"
   ]
  },
  {
   "cell_type": "code",
   "execution_count": null,
   "metadata": {},
   "outputs": [],
   "source": [
    "# completion = client.chat.completions.create(\n",
    "#     model=\"gpt-4o-mini\",\n",
    "#     messages=[\n",
    "#         {\n",
    "#             \"role\": \"system\", \n",
    "#             \"content\": \"\"\"\n",
    "#             Factors For Lumpectomy:\n",
    "# Breast Conservation – Preserves the natural breast, which may be important for some women, though Mdm Ang has indicated she may be able to accept a flat chest.\n",
    "# Less Invasive Surgery – Typically, a shorter recovery time compared to a mastectomy.\n",
    "# Factors Against Lumpectomy:\n",
    "# Need for Frequent Follow-Ups – Requires post-surgical radiotherapy, which means multiple hospital visits, a significant concern for Mdm Ang since she finds it difficult to travel to the hospital frequently.\n",
    "# Risk of Second Surgery – If the lumpectomy does not achieve clear margins, a second surgery may be required, which Mdm Ang wants to avoid.\n",
    "# Overall Treatment Burden – The combination of surgery and radiotherapy means a longer treatment course, which may not be ideal given her preference for a one-time treatment.\n",
    "# Since Mdm Ang prioritizes minimizing hospital visits and avoiding the possibility of a second surgery, mastectomy without reconstruction aligns better with her needs.\n",
    "# \"\"\"},\n",
    "#         {\n",
    "#             \"role\": \"user\",\n",
    "#             \"content\": f\"\"\"\n",
    "# 1) cannot accept mastectomy\n",
    "# 2) wants reconstruction but cannot accept implant - can accept tram or LD flap \n",
    "# 3) only wants lumpectomy ok for second surgery\n",
    "# 4) tumor too big but really only want breast conserving and considering oncoplastic surgery - accepting of a slightly longer scar to maintain symmetry of best \n",
    "# 5) big tumor but cannot accept mastectomy, discuss neoadjuvant chemotherapy- risks and benefits and agreeable for trial of nact before mastectomy\n",
    "# 6) cost concerns. \n",
    "# Deciding between Breast conserving but with radiotherapy versus mastectomy without recon \n",
    "# Recon too expensive\n",
    "# 7) concern about drain management and no caregiver - prefers fast recovery - lumpectomy \n",
    "# 8 ) doesn’t want radiotherapy strongly  - mastectomy the.\n",
    "#             .\"\"\"\n",
    "#         }\n",
    "#     ]\n",
    "# )"
   ]
  },
  {
   "cell_type": "code",
   "execution_count": null,
   "metadata": {},
   "outputs": [],
   "source": [
    "# from langchain.text_splitter import CharacterTextSplitter\n",
    "\n",
    "# text = \"Your long document text here...\"\n",
    "\n",
    "# splitter = CharacterTextSplitter(\n",
    "#     separator=\"\\n\\n\",\n",
    "#     chunk_size=1000,\n",
    "#     chunk_overlap=200\n",
    "# )\n",
    "\n",
    "# chunks = splitter.split_text(text) #you can also split documents using split_documents\n",
    "\n",
    "# from langchain.text_splitter import RecursiveCharacterTextSplitter\n",
    "\n",
    "# text = \"Your long document text here...\"\n",
    "\n",
    "# splitter = RecursiveCharacterTextSplitter(\n",
    "#     separators=[\"\\n\\n\", \"\\n\", \" \", \"\"],\n",
    "#     chunk_size=1000,\n",
    "#     chunk_overlap=200,\n",
    "#     length_function=len\n",
    "# )\n",
    "\n",
    "# chunks = splitter.split_text(text)"
   ]
  }
 ],
 "metadata": {
  "kernelspec": {
   "display_name": "iris-env",
   "language": "python",
   "name": "python3"
  },
  "language_info": {
   "codemirror_mode": {
    "name": "ipython",
    "version": 3
   },
   "file_extension": ".py",
   "mimetype": "text/x-python",
   "name": "python",
   "nbconvert_exporter": "python",
   "pygments_lexer": "ipython3",
   "version": "3.10.6"
  }
 },
 "nbformat": 4,
 "nbformat_minor": 2
}
